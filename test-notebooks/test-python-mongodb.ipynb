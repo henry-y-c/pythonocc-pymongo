{
 "cells": [
  {
   "cell_type": "code",
   "execution_count": 1,
   "metadata": {},
   "outputs": [],
   "source": [
    "from pymongo import MongoClient\n",
    "from pprint import pprint"
   ]
  },
  {
   "cell_type": "code",
   "execution_count": 2,
   "metadata": {},
   "outputs": [],
   "source": [
    "mongo_server_ip = '172.17.0.3'\n",
    "mongo_server_port = '27017'\n",
    "db_name = ''"
   ]
  },
  {
   "cell_type": "code",
   "execution_count": 3,
   "metadata": {},
   "outputs": [],
   "source": [
    "mongo_url = 'mongodb://{}:{}'.format(mongo_server_ip, mongo_server_port)\n",
    "client = MongoClient(mongo_url)"
   ]
  },
  {
   "cell_type": "code",
   "execution_count": 4,
   "metadata": {},
   "outputs": [
    {
     "name": "stdout",
     "output_type": "stream",
     "text": [
      "One post: 5baef97d711ea90037fcbd1a\n"
     ]
    }
   ],
   "source": [
    "db = client.pymongo_test\n",
    "posts = db.posts\n",
    "post_data = {\n",
    "    'title': 'Python and MongoDB',\n",
    "    'content': 'PyMongo is fun, you guys',\n",
    "    'author': 'Scott'\n",
    "}\n",
    "result = posts.insert_one(post_data)\n",
    "print('One post: {0}'.format(result.inserted_id))"
   ]
  },
  {
   "cell_type": "code",
   "execution_count": 5,
   "metadata": {},
   "outputs": [
    {
     "name": "stdout",
     "output_type": "stream",
     "text": [
      "Multiple posts: [ObjectId('5baef97d711ea90037fcbd1b'), ObjectId('5baef97d711ea90037fcbd1c'), ObjectId('5baef97d711ea90037fcbd1d')]\n"
     ]
    }
   ],
   "source": [
    "post_1 = {\n",
    "    'title': 'Python and MongoDB',\n",
    "    'content': 'PyMongo is fun, you guys',\n",
    "    'author': 'Scott'\n",
    "}\n",
    "post_2 = {\n",
    "    'title': 'Virtual Environments',\n",
    "    'content': 'Use virtual environments, you guys',\n",
    "    'author': 'Scott'\n",
    "}\n",
    "post_3 = {\n",
    "    'title': 'Learning Python',\n",
    "    'content': 'Learn Python, it is easy',\n",
    "    'author': 'Bill'\n",
    "}\n",
    "new_result = posts.insert_many([post_1, post_2, post_3])\n",
    "print('Multiple posts: {0}'.format(new_result.inserted_ids))"
   ]
  },
  {
   "cell_type": "code",
   "execution_count": 6,
   "metadata": {},
   "outputs": [
    {
     "name": "stdout",
     "output_type": "stream",
     "text": [
      "{'content': 'Learn Python, it is easy', '_id': ObjectId('5baef8e9711ea9001bf08f8e'), 'title': 'Learning Python', 'author': 'Bill'}\n"
     ]
    }
   ],
   "source": [
    "bills_post = posts.find_one({'author': 'Bill'})\n",
    "print(bills_post)"
   ]
  },
  {
   "cell_type": "code",
   "execution_count": 7,
   "metadata": {},
   "outputs": [
    {
     "name": "stdout",
     "output_type": "stream",
     "text": [
      "<pymongo.cursor.Cursor object at 0x7fa02b309828>\n"
     ]
    }
   ],
   "source": [
    "scotts_posts = posts.find({'author': 'Scott'})\n",
    "print(scotts_posts)"
   ]
  },
  {
   "cell_type": "code",
   "execution_count": 8,
   "metadata": {},
   "outputs": [
    {
     "name": "stdout",
     "output_type": "stream",
     "text": [
      "{'content': 'PyMongo is fun, you guys', '_id': ObjectId('5baef8db711ea9001bf08f8b'), 'title': 'Python and MongoDB', 'author': 'Scott'}\n",
      "{'content': 'PyMongo is fun, you guys', '_id': ObjectId('5baef8e9711ea9001bf08f8c'), 'title': 'Python and MongoDB', 'author': 'Scott'}\n",
      "{'content': 'Use virtual environments, you guys', '_id': ObjectId('5baef8e9711ea9001bf08f8d'), 'title': 'Virtual Environments', 'author': 'Scott'}\n",
      "{'content': 'PyMongo is fun, you guys', '_id': ObjectId('5baef97d711ea90037fcbd1a'), 'title': 'Python and MongoDB', 'author': 'Scott'}\n",
      "{'content': 'PyMongo is fun, you guys', '_id': ObjectId('5baef97d711ea90037fcbd1b'), 'title': 'Python and MongoDB', 'author': 'Scott'}\n",
      "{'content': 'Use virtual environments, you guys', '_id': ObjectId('5baef97d711ea90037fcbd1c'), 'title': 'Virtual Environments', 'author': 'Scott'}\n"
     ]
    }
   ],
   "source": [
    "for post in scotts_posts:\n",
    "    print(post)"
   ]
  },
  {
   "cell_type": "code",
   "execution_count": null,
   "metadata": {},
   "outputs": [],
   "source": []
  }
 ],
 "metadata": {
  "kernelspec": {
   "display_name": "Python 3",
   "language": "python",
   "name": "python3"
  },
  "language_info": {
   "codemirror_mode": {
    "name": "ipython",
    "version": 3
   },
   "file_extension": ".py",
   "mimetype": "text/x-python",
   "name": "python",
   "nbconvert_exporter": "python",
   "pygments_lexer": "ipython3",
   "version": "3.5.3"
  }
 },
 "nbformat": 4,
 "nbformat_minor": 2
}
